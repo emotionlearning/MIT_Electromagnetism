{
 "cells": [
  {
   "cell_type": "markdown",
   "metadata": {
    "collapsed": false
   },
   "source": [
    "# Gravitational Force VS. Electric Force for two protons"
   ]
  },
  {
   "cell_type": "markdown",
   "metadata": {
    "collapsed": true
   },
   "source": [
    "The mass of a proton: $m_p = 1.67 * 10^{-27} kg$. And the gravitational constant: $G = 6.67 * 10^{-11} N m^2 kg^{-2}$.\n",
    "The charge of the proton: $e = 1.6 * 10^{-19} C$. And the Coulomb constant: $k = 9 * 10^9 N m^2 C^{-2}$\n",
    "\n",
    "Consider two protons a distance $d = 10^{-15}$ m.\n",
    "\n",
    "First, the gravitational force:\n",
    "$$F_G = -\\frac{G{m_p}^2}{d^2}\\vec{\\mathbf{j}}$$\n"
   ]
  },
  {
   "cell_type": "code",
   "execution_count": 6,
   "metadata": {
    "collapsed": false
   },
   "outputs": [
    {
     "name": "stdout",
     "output_type": "stream",
     "text": [
      "Gravitational force F_G = -1.860196e-36\n"
     ]
    }
   ],
   "source": [
    "g = 6.67e-11\n",
    "m_p = 1.67e-27\n",
    "d = 10e-15\n",
    "\n",
    "f_g = g * m_p * m_p / (d * d)\n",
    "print(\"Value of gravitational force F_G = %e\" % f_g)"
   ]
  },
  {
   "cell_type": "markdown",
   "metadata": {},
   "source": [
    "Then, the electric force:\n",
    "$$F_E = \\frac{k{e}^2}{d^2}\\vec{\\mathbf{j}}$$"
   ]
  },
  {
   "cell_type": "code",
   "execution_count": 8,
   "metadata": {
    "collapsed": false
   },
   "outputs": [
    {
     "name": "stdout",
     "output_type": "stream",
     "text": [
      "Value of electric force F_e = 2.304000e+00\n",
      "Ratio of the two forces = -8.073769e-37\n"
     ]
    }
   ],
   "source": [
    "k = 9e9\n",
    "e = 1.6e-19\n",
    "\n",
    "f_e = k * e * e / (d * d)\n",
    "print(\"Value of electric force F_e = %e\" % f_e)\n",
    "\n",
    "ratio = f_g / f_e\n",
    "print(\"Ratio of the two forces = %e\" % ratio)"
   ]
  },
  {
   "cell_type": "markdown",
   "metadata": {},
   "source": [
    "$$\\frac{|F_G|}{|F_e|} = -8.073769 * 10^{-37}$$"
   ]
  },
  {
   "cell_type": "code",
   "execution_count": null,
   "metadata": {
    "collapsed": true
   },
   "outputs": [],
   "source": []
  }
 ],
 "metadata": {
  "kernelspec": {
   "display_name": "Python 3",
   "language": "python",
   "name": "python3"
  },
  "language_info": {
   "codemirror_mode": {
    "name": "ipython",
    "version": 3
   },
   "file_extension": ".py",
   "mimetype": "text/x-python",
   "name": "python",
   "nbconvert_exporter": "python",
   "pygments_lexer": "ipython3",
   "version": "3.5.3"
  }
 },
 "nbformat": 4,
 "nbformat_minor": 2
}
