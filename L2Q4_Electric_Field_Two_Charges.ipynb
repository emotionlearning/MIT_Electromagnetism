{
 "cells": [
  {
   "cell_type": "markdown",
   "metadata": {},
   "source": [
    "# Electric Field due to Two Charges\n",
    "Define $e = 1.6 * 10^{-19} C$. The charge of the electron: $Q_e = - e$. The charge of the proton: $Q_p = e$. The Coulomb constant: $k = 9 * 10^9 N m^2 C^{-2}$\n",
    "Distance of the two charges $d = 10^{-15}$ m.\n"
   ]
  },
  {
   "cell_type": "code",
   "execution_count": 52,
   "metadata": {
    "collapsed": false
   },
   "outputs": [
    {
     "data": {
      "image/png": "[encoded data removed]",
      "text/plain": [
       "<matplotlib.figure.Figure at 0xafa7104c>"
      ]
     },
     "metadata": {},
     "output_type": "display_data"
    }
   ],
   "source": [
    "%matplotlib inline\n",
    "import matplotlib.pyplot as plt\n",
    "\n",
    "circle = plt.Circle((0,-5e-15), 0.85e-15, color = 'r')\n",
    "circle2 = plt.Circle((0, 5e-15), 0.85e-15, color = 'b')\n",
    "fig, ax = plt.subplots()\n",
    "ax.add_artist(circle)\n",
    "ax.add_artist(circle2)\n",
    "\n",
    "ax.arrow(0, -5e-15, 10e-15, 15e-15, width=1e-18, length_includes_head=True, head_width=5e-16, head_length=10e-16, fc='k', ec='k')\n",
    "ax.arrow(0, 5e-15, 10e-15, 5e-15, width=1e-18, length_includes_head=True, head_width=5e-16, head_length=10e-16, fc='k', ec='k')\n",
    "ax.annotate('$r_e$', xy=(2.5e-15, -2.5e-15))\n",
    "ax.annotate('$r_p$', xy=(2.5e-15, 7.5e-15))\n",
    "\n",
    "ax.set_xlim(-0.5e-14, 1.5e-14)\n",
    "ax.set_ylim(-1e-14, 1.5e-14)\n",
    "ax.set_aspect('equal', 'box')"
   ]
  },
  {
   "cell_type": "markdown",
   "metadata": {},
   "source": [
    "Then, the electric field for the electron & proton:\n",
    "$$E_e = - \\frac{k e}{{r_e}^3}\\vec{\\mathbf{r_e}}$$\n",
    "$$E_p = \\frac{k e}{{r_p}^3}\\vec{\\mathbf{r_p}}$$\n",
    "$$|\\vec{\\mathbf{r_e}}| = r_e$$ $$|\\vec{\\mathbf{r_p}}| = r_p$$"
   ]
  },
  {
   "cell_type": "code",
   "execution_count": null,
   "metadata": {
    "collapsed": true
   },
   "outputs": [],
   "source": []
  }
 ],
 "metadata": {
  "kernelspec": {
   "display_name": "Python 3",
   "language": "python",
   "name": "python3"
  },
  "language_info": {
   "codemirror_mode": {
    "name": "ipython",
    "version": 3
   },
   "file_extension": ".py",
   "mimetype": "text/x-python",
   "name": "python",
   "nbconvert_exporter": "python",
   "pygments_lexer": "ipython3",
   "version": "3.5.3"
  }
 },
 "nbformat": 4,
 "nbformat_minor": 2
}
