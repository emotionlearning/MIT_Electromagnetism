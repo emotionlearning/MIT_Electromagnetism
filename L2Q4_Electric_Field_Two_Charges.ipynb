{
 "cells": [
  {
   "cell_type": "markdown",
   "metadata": {},
   "source": [
    "# Electric Field due to Two Charges\n",
    "The charge of the proton: $e = 1.6 * 10^{-19} C$. And the Coulomb constant: $k = 9 * 10^9 N m^2 C^{-2}$\n",
    "Then, the electric force:\n",
    "$$F_E = \\frac{k{e}^2}{d^2}\\vec{\\mathbf{j}}$$"
   ]
  },
  {
   "cell_type": "code",
   "execution_count": null,
   "metadata": {
    "collapsed": true
   },
   "outputs": [],
   "source": []
  }
 ],
 "metadata": {
  "kernelspec": {
   "display_name": "Python 3",
   "language": "python",
   "name": "python3"
  },
  "language_info": {
   "codemirror_mode": {
    "name": "ipython",
    "version": 3
   },
   "file_extension": ".py",
   "mimetype": "text/x-python",
   "name": "python",
   "nbconvert_exporter": "python",
   "pygments_lexer": "ipython3",
   "version": "3.5.3"
  }
 },
 "nbformat": 4,
 "nbformat_minor": 2
}
